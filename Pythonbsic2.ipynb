{
 "cells": [
  {
   "cell_type": "code",
   "execution_count": 2,
   "id": "06ae74a0-a47f-4a11-a7a4-bb3c7c3a98b9",
   "metadata": {},
   "outputs": [
    {
     "name": "stdin",
     "output_type": "stream",
     "text": [
      " 6558\n"
     ]
    }
   ],
   "source": [
    "d=int(input())"
   ]
  },
  {
   "cell_type": "code",
   "execution_count": 3,
   "id": "dcef5ab0-6be8-477f-9c3d-70be421d82e1",
   "metadata": {},
   "outputs": [
    {
     "data": {
      "text/plain": [
       "6558"
      ]
     },
     "execution_count": 3,
     "metadata": {},
     "output_type": "execute_result"
    }
   ],
   "source": [
    "d"
   ]
  },
  {
   "cell_type": "code",
   "execution_count": 4,
   "id": "66834d19-8c46-4be3-9952-84e8d70a6a40",
   "metadata": {},
   "outputs": [
    {
     "data": {
      "text/plain": [
       "int"
      ]
     },
     "execution_count": 4,
     "metadata": {},
     "output_type": "execute_result"
    }
   ],
   "source": [
    "type(d)"
   ]
  },
  {
   "cell_type": "code",
   "execution_count": 5,
   "id": "23c9ab7b-e3ca-49bd-abe2-4be21f42afa8",
   "metadata": {},
   "outputs": [],
   "source": [
    "s=\"sourabh\""
   ]
  },
  {
   "cell_type": "code",
   "execution_count": 6,
   "id": "f9c5d53a-cd90-4b6f-ac72-154a3db47400",
   "metadata": {},
   "outputs": [
    {
     "ename": "SyntaxError",
     "evalue": "invalid syntax (4292174412.py, line 1)",
     "output_type": "error",
     "traceback": [
      "\u001b[0;36m  Cell \u001b[0;32mIn[6], line 1\u001b[0;36m\u001b[0m\n\u001b[0;31m    s.[0]\u001b[0m\n\u001b[0m      ^\u001b[0m\n\u001b[0;31mSyntaxError\u001b[0m\u001b[0;31m:\u001b[0m invalid syntax\n"
     ]
    }
   ],
   "source": [
    "s.[0]"
   ]
  },
  {
   "cell_type": "code",
   "execution_count": 7,
   "id": "d9a294a9-233f-4efb-80b4-7b2dac349511",
   "metadata": {},
   "outputs": [
    {
     "ename": "SyntaxError",
     "evalue": "invalid syntax (1337183197.py, line 1)",
     "output_type": "error",
     "traceback": [
      "\u001b[0;36m  Cell \u001b[0;32mIn[7], line 1\u001b[0;36m\u001b[0m\n\u001b[0;31m    h=s.[0]\u001b[0m\n\u001b[0m        ^\u001b[0m\n\u001b[0;31mSyntaxError\u001b[0m\u001b[0;31m:\u001b[0m invalid syntax\n"
     ]
    }
   ],
   "source": [
    "h=s.[0]"
   ]
  },
  {
   "cell_type": "code",
   "execution_count": 8,
   "id": "47aea2b9-5c23-42d4-9db9-519fd73442fb",
   "metadata": {},
   "outputs": [
    {
     "data": {
      "text/plain": [
       "'s'"
      ]
     },
     "execution_count": 8,
     "metadata": {},
     "output_type": "execute_result"
    }
   ],
   "source": [
    "s[0]"
   ]
  },
  {
   "cell_type": "code",
   "execution_count": 9,
   "id": "3c146076-d2d0-4834-a2c2-0187e8602615",
   "metadata": {},
   "outputs": [
    {
     "data": {
      "text/plain": [
       "'r'"
      ]
     },
     "execution_count": 9,
     "metadata": {},
     "output_type": "execute_result"
    }
   ],
   "source": [
    "s[3]"
   ]
  },
  {
   "cell_type": "code",
   "execution_count": 10,
   "id": "0ab7f570-6bbf-40d4-9c6c-84242670e243",
   "metadata": {},
   "outputs": [
    {
     "data": {
      "text/plain": [
       "'o'"
      ]
     },
     "execution_count": 10,
     "metadata": {},
     "output_type": "execute_result"
    }
   ],
   "source": [
    "s[0+1]"
   ]
  },
  {
   "cell_type": "code",
   "execution_count": 11,
   "id": "d01f6832-56a5-4546-a0a1-a80029a45911",
   "metadata": {},
   "outputs": [
    {
     "data": {
      "text/plain": [
       "'b'"
      ]
     },
     "execution_count": 11,
     "metadata": {},
     "output_type": "execute_result"
    }
   ],
   "source": [
    "s[2+3]"
   ]
  },
  {
   "cell_type": "code",
   "execution_count": 12,
   "id": "e5b8eedb-4dac-4d86-9968-aed7c971d09c",
   "metadata": {},
   "outputs": [
    {
     "data": {
      "text/plain": [
       "'h'"
      ]
     },
     "execution_count": 12,
     "metadata": {},
     "output_type": "execute_result"
    }
   ],
   "source": [
    "s[-1]"
   ]
  },
  {
   "cell_type": "code",
   "execution_count": 13,
   "id": "7f75fb8b-2421-4bf6-bae4-4a35dfc4f18a",
   "metadata": {},
   "outputs": [
    {
     "ename": "IndexError",
     "evalue": "string index out of range",
     "output_type": "error",
     "traceback": [
      "\u001b[0;31m---------------------------------------------------------------------------\u001b[0m",
      "\u001b[0;31mIndexError\u001b[0m                                Traceback (most recent call last)",
      "Cell \u001b[0;32mIn[13], line 1\u001b[0m\n\u001b[0;32m----> 1\u001b[0m \u001b[43ms\u001b[49m\u001b[43m[\u001b[49m\u001b[38;5;241;43m-\u001b[39;49m\u001b[38;5;241;43m100\u001b[39;49m\u001b[43m]\u001b[49m\n",
      "\u001b[0;31mIndexError\u001b[0m: string index out of range"
     ]
    }
   ],
   "source": [
    "s[-100]"
   ]
  },
  {
   "cell_type": "code",
   "execution_count": 14,
   "id": "759c9cbd-098c-4df6-b00e-56807185651b",
   "metadata": {},
   "outputs": [],
   "source": [
    "s1=\"pwSkills\""
   ]
  },
  {
   "cell_type": "code",
   "execution_count": 15,
   "id": "e7b288ef-d0b2-4963-bc0c-48cf60a7a5c2",
   "metadata": {},
   "outputs": [
    {
     "ename": "TypeError",
     "evalue": "string indices must be integers",
     "output_type": "error",
     "traceback": [
      "\u001b[0;31m---------------------------------------------------------------------------\u001b[0m",
      "\u001b[0;31mTypeError\u001b[0m                                 Traceback (most recent call last)",
      "Cell \u001b[0;32mIn[15], line 1\u001b[0m\n\u001b[0;32m----> 1\u001b[0m \u001b[43ms1\u001b[49m\u001b[43m[\u001b[49m\u001b[38;5;241;43m0\u001b[39;49m\u001b[43m,\u001b[49m\u001b[38;5;241;43m4\u001b[39;49m\u001b[43m]\u001b[49m\n",
      "\u001b[0;31mTypeError\u001b[0m: string indices must be integers"
     ]
    }
   ],
   "source": [
    "s1[0,4]"
   ]
  },
  {
   "cell_type": "code",
   "execution_count": 16,
   "id": "45e5e71e-536b-4d62-9193-d48889c0fbf2",
   "metadata": {},
   "outputs": [],
   "source": [
    "w=\"kuwueyvtuet\"\n"
   ]
  },
  {
   "cell_type": "code",
   "execution_count": 17,
   "id": "5eb1fe3e-b33b-4a31-aa50-efc9ee87a2c3",
   "metadata": {},
   "outputs": [
    {
     "ename": "TypeError",
     "evalue": "string indices must be integers",
     "output_type": "error",
     "traceback": [
      "\u001b[0;31m---------------------------------------------------------------------------\u001b[0m",
      "\u001b[0;31mTypeError\u001b[0m                                 Traceback (most recent call last)",
      "Cell \u001b[0;32mIn[17], line 1\u001b[0m\n\u001b[0;32m----> 1\u001b[0m \u001b[43mw\u001b[49m\u001b[43m[\u001b[49m\u001b[38;5;241;43m0\u001b[39;49m\u001b[43m,\u001b[49m\u001b[38;5;241;43m3\u001b[39;49m\u001b[43m]\u001b[49m\n",
      "\u001b[0;31mTypeError\u001b[0m: string indices must be integers"
     ]
    }
   ],
   "source": [
    "w[0,3]"
   ]
  },
  {
   "cell_type": "code",
   "execution_count": 18,
   "id": "8c11998c-85dc-4030-ac78-23d2cc86a6c6",
   "metadata": {},
   "outputs": [
    {
     "data": {
      "text/plain": [
       "'kuw'"
      ]
     },
     "execution_count": 18,
     "metadata": {},
     "output_type": "execute_result"
    }
   ],
   "source": [
    "w[0:3]"
   ]
  },
  {
   "cell_type": "code",
   "execution_count": 19,
   "id": "128c23aa-ba52-4162-8d01-b2d4be6dbf42",
   "metadata": {},
   "outputs": [],
   "source": [
    "k=\"pwskills\""
   ]
  },
  {
   "cell_type": "code",
   "execution_count": 20,
   "id": "0d82a9ad-ea3f-4088-8a5b-1e96ea5e018f",
   "metadata": {},
   "outputs": [
    {
     "data": {
      "text/plain": [
       "'skills'"
      ]
     },
     "execution_count": 20,
     "metadata": {},
     "output_type": "execute_result"
    }
   ],
   "source": [
    "k[2:]"
   ]
  },
  {
   "cell_type": "code",
   "execution_count": 21,
   "id": "16b297e8-041e-43f9-a613-914fec79a1e3",
   "metadata": {},
   "outputs": [
    {
     "data": {
      "text/plain": [
       "'skill'"
      ]
     },
     "execution_count": 21,
     "metadata": {},
     "output_type": "execute_result"
    }
   ],
   "source": [
    "k[2:7]"
   ]
  },
  {
   "cell_type": "code",
   "execution_count": 22,
   "id": "15e1f2b4-6672-41a2-b193-f4e4ea1f667c",
   "metadata": {},
   "outputs": [
    {
     "data": {
      "text/plain": [
       "'skills'"
      ]
     },
     "execution_count": 22,
     "metadata": {},
     "output_type": "execute_result"
    }
   ],
   "source": [
    "k[2:8786836]"
   ]
  },
  {
   "cell_type": "code",
   "execution_count": 24,
   "id": "8da30f5e-5cd8-46f9-aae0-843c148e5c5c",
   "metadata": {},
   "outputs": [
    {
     "ename": "SyntaxError",
     "evalue": "invalid syntax (1561696434.py, line 1)",
     "output_type": "error",
     "traceback": [
      "\u001b[0;36m  Cell \u001b[0;32mIn[24], line 1\u001b[0;36m\u001b[0m\n\u001b[0;31m    k[0:2:4:5]\u001b[0m\n\u001b[0m           ^\u001b[0m\n\u001b[0;31mSyntaxError\u001b[0m\u001b[0;31m:\u001b[0m invalid syntax\n"
     ]
    }
   ],
   "source": []
  },
  {
   "cell_type": "code",
   "execution_count": 19,
   "id": "643780cc-a99c-42b8-ba20-ef5f7315dbac",
   "metadata": {},
   "outputs": [],
   "source": [
    "k=\"pwskills\""
   ]
  },
  {
   "cell_type": "code",
   "execution_count": 25,
   "id": "85568de4-5f80-4443-bfb6-883a8152fda2",
   "metadata": {},
   "outputs": [
    {
     "data": {
      "text/plain": [
       "''"
      ]
     },
     "execution_count": 25,
     "metadata": {},
     "output_type": "execute_result"
    }
   ],
   "source": [
    "k[7:3]"
   ]
  },
  {
   "cell_type": "code",
   "execution_count": 26,
   "id": "61ce0503-c31f-405a-b72f-2c47ea395580",
   "metadata": {},
   "outputs": [
    {
     "data": {
      "text/plain": [
       "''"
      ]
     },
     "execution_count": 26,
     "metadata": {},
     "output_type": "execute_result"
    }
   ],
   "source": [
    "k[7:-3]"
   ]
  },
  {
   "cell_type": "code",
   "execution_count": 27,
   "id": "95726a4e-ebf8-4384-aae6-7746c509077e",
   "metadata": {},
   "outputs": [
    {
     "data": {
      "text/plain": [
       "'psil'"
      ]
     },
     "execution_count": 27,
     "metadata": {},
     "output_type": "execute_result"
    }
   ],
   "source": [
    "k[0:7:2]"
   ]
  },
  {
   "cell_type": "code",
   "execution_count": 28,
   "id": "f099f380-fa02-4d60-bb21-b69bc914d057",
   "metadata": {},
   "outputs": [
    {
     "data": {
      "text/plain": [
       "'slli'"
      ]
     },
     "execution_count": 28,
     "metadata": {},
     "output_type": "execute_result"
    }
   ],
   "source": [
    "k[7:3:-1]"
   ]
  },
  {
   "cell_type": "code",
   "execution_count": 29,
   "id": "e241a2fb-8b24-4fd5-8f0c-484790f33a5a",
   "metadata": {},
   "outputs": [],
   "source": [
    "a=\"PWSKILLS\""
   ]
  },
  {
   "cell_type": "code",
   "execution_count": 30,
   "id": "4684db83-c88f-4f08-b0c1-e9f6f7b8f109",
   "metadata": {},
   "outputs": [
    {
     "data": {
      "text/plain": [
       "''"
      ]
     },
     "execution_count": 30,
     "metadata": {},
     "output_type": "execute_result"
    }
   ],
   "source": [
    "a[-1:-5]"
   ]
  },
  {
   "cell_type": "code",
   "execution_count": 32,
   "id": "84c362e6-4b89-4af5-9836-29a17c2fb96a",
   "metadata": {},
   "outputs": [
    {
     "data": {
      "text/plain": [
       "'SLLI'"
      ]
     },
     "execution_count": 32,
     "metadata": {},
     "output_type": "execute_result"
    }
   ],
   "source": [
    "a[-1:-5:-1]"
   ]
  },
  {
   "cell_type": "code",
   "execution_count": 33,
   "id": "e68d3836-af4d-4f51-a8d2-dae0f8509f66",
   "metadata": {},
   "outputs": [
    {
     "data": {
      "text/plain": [
       "'PWSKILLS'"
      ]
     },
     "execution_count": 33,
     "metadata": {},
     "output_type": "execute_result"
    }
   ],
   "source": [
    "a[-8:]"
   ]
  },
  {
   "cell_type": "code",
   "execution_count": 34,
   "id": "e8500c35-ad49-49d4-a2dc-f3ee1359fd11",
   "metadata": {},
   "outputs": [
    {
     "data": {
      "text/plain": [
       "''"
      ]
     },
     "execution_count": 34,
     "metadata": {},
     "output_type": "execute_result"
    }
   ],
   "source": [
    "a[:-8]"
   ]
  },
  {
   "cell_type": "code",
   "execution_count": 35,
   "id": "4568d5de-da72-49f7-94b4-ec4da52f043a",
   "metadata": {},
   "outputs": [
    {
     "data": {
      "text/plain": [
       "''"
      ]
     },
     "execution_count": 35,
     "metadata": {},
     "output_type": "execute_result"
    }
   ],
   "source": [
    "a[7:-1:-1]"
   ]
  },
  {
   "cell_type": "code",
   "execution_count": 36,
   "id": "146c05f3-9d1f-48a9-9140-11d9a977deea",
   "metadata": {},
   "outputs": [
    {
     "data": {
      "text/plain": [
       "''"
      ]
     },
     "execution_count": 36,
     "metadata": {},
     "output_type": "execute_result"
    }
   ],
   "source": [
    "a[7:9:-1]"
   ]
  },
  {
   "cell_type": "code",
   "execution_count": 37,
   "id": "64fc18ab-6217-4bb9-a935-6580a66fedf6",
   "metadata": {},
   "outputs": [
    {
     "data": {
      "text/plain": [
       "'SLLIKSWP'"
      ]
     },
     "execution_count": 37,
     "metadata": {},
     "output_type": "execute_result"
    }
   ],
   "source": [
    "a[7:-9:-1]"
   ]
  },
  {
   "cell_type": "code",
   "execution_count": 38,
   "id": "ffe65a2e-bba7-4d8c-81c5-4111ac8c44c6",
   "metadata": {},
   "outputs": [
    {
     "data": {
      "text/plain": [
       "'SLLIKSWP'"
      ]
     },
     "execution_count": 38,
     "metadata": {},
     "output_type": "execute_result"
    }
   ],
   "source": [
    "a[::-1]"
   ]
  },
  {
   "cell_type": "code",
   "execution_count": 39,
   "id": "e1c590a9-d5b6-4017-a359-ae3cb1d12f6a",
   "metadata": {},
   "outputs": [
    {
     "data": {
      "text/plain": [
       "'PWSKILLS'"
      ]
     },
     "execution_count": 39,
     "metadata": {},
     "output_type": "execute_result"
    }
   ],
   "source": [
    "a[::+1]"
   ]
  },
  {
   "cell_type": "code",
   "execution_count": 40,
   "id": "b75ae1a8-9974-4863-9693-f41ef1b877a7",
   "metadata": {},
   "outputs": [
    {
     "ename": "TypeError",
     "evalue": "string indices must be integers",
     "output_type": "error",
     "traceback": [
      "\u001b[0;31m---------------------------------------------------------------------------\u001b[0m",
      "\u001b[0;31mTypeError\u001b[0m                                 Traceback (most recent call last)",
      "Cell \u001b[0;32mIn[40], line 1\u001b[0m\n\u001b[0;32m----> 1\u001b[0m \u001b[43ma\u001b[49m\u001b[43m[\u001b[49m\u001b[38;5;241;43m0\u001b[39;49m\u001b[43m,\u001b[49m\u001b[38;5;124;43m'\u001b[39;49m\u001b[38;5;124;43ms\u001b[39;49m\u001b[38;5;124;43m'\u001b[39;49m\u001b[43m]\u001b[49m\n",
      "\u001b[0;31mTypeError\u001b[0m: string indices must be integers"
     ]
    }
   ],
   "source": [
    "a[0,'s']"
   ]
  },
  {
   "cell_type": "code",
   "execution_count": 41,
   "id": "b24cce6c-5a74-4ff7-bedf-b118e0c1638d",
   "metadata": {},
   "outputs": [
    {
     "ename": "TypeError",
     "evalue": "'str' object does not support item assignment",
     "output_type": "error",
     "traceback": [
      "\u001b[0;31m---------------------------------------------------------------------------\u001b[0m",
      "\u001b[0;31mTypeError\u001b[0m                                 Traceback (most recent call last)",
      "Cell \u001b[0;32mIn[41], line 1\u001b[0m\n\u001b[0;32m----> 1\u001b[0m \u001b[43ma\u001b[49m\u001b[43m[\u001b[49m\u001b[38;5;241;43m0\u001b[39;49m\u001b[43m]\u001b[49m\u001b[38;5;241m=\u001b[39m\u001b[38;5;124m'\u001b[39m\u001b[38;5;124ms\u001b[39m\u001b[38;5;124m'\u001b[39m\n",
      "\u001b[0;31mTypeError\u001b[0m: 'str' object does not support item assignment"
     ]
    }
   ],
   "source": [
    "a[0]='s'"
   ]
  },
  {
   "cell_type": "code",
   "execution_count": 42,
   "id": "69b07bc3-2ef3-4047-8d03-8529b852255c",
   "metadata": {},
   "outputs": [
    {
     "ename": "TypeError",
     "evalue": "slice indices must be integers or None or have an __index__ method",
     "output_type": "error",
     "traceback": [
      "\u001b[0;31m---------------------------------------------------------------------------\u001b[0m",
      "\u001b[0;31mTypeError\u001b[0m                                 Traceback (most recent call last)",
      "Cell \u001b[0;32mIn[42], line 1\u001b[0m\n\u001b[0;32m----> 1\u001b[0m \u001b[43ma\u001b[49m\u001b[43m[\u001b[49m\u001b[38;5;241;43m0\u001b[39;49m\u001b[43m:\u001b[49m\u001b[38;5;124;43m'\u001b[39;49m\u001b[38;5;124;43ms\u001b[39;49m\u001b[38;5;124;43m'\u001b[39;49m\u001b[43m]\u001b[49m\n",
      "\u001b[0;31mTypeError\u001b[0m: slice indices must be integers or None or have an __index__ method"
     ]
    }
   ],
   "source": [
    "a[0:'s']"
   ]
  },
  {
   "cell_type": "code",
   "execution_count": 47,
   "id": "f4fde991-bdfe-4c21-b4fc-b653a248181d",
   "metadata": {},
   "outputs": [
    {
     "ename": "SyntaxError",
     "evalue": "invalid syntax (4102858973.py, line 1)",
     "output_type": "error",
     "traceback": [
      "\u001b[0;36m  Cell \u001b[0;32mIn[47], line 1\u001b[0;36m\u001b[0m\n\u001b[0;31m    a[0;\"s\"]\u001b[0m\n\u001b[0m       ^\u001b[0m\n\u001b[0;31mSyntaxError\u001b[0m\u001b[0;31m:\u001b[0m invalid syntax\n"
     ]
    }
   ],
   "source": [
    "a[0;\"s\"]"
   ]
  },
  {
   "cell_type": "code",
   "execution_count": 44,
   "id": "963988a3-5caa-46ea-b45b-24f0c085eecf",
   "metadata": {},
   "outputs": [],
   "source": [
    "n=123456789"
   ]
  },
  {
   "cell_type": "code",
   "execution_count": 45,
   "id": "dd0a3670-b732-4a34-b1aa-74fb728dc453",
   "metadata": {},
   "outputs": [
    {
     "ename": "TypeError",
     "evalue": "'int' object does not support item assignment",
     "output_type": "error",
     "traceback": [
      "\u001b[0;31m---------------------------------------------------------------------------\u001b[0m",
      "\u001b[0;31mTypeError\u001b[0m                                 Traceback (most recent call last)",
      "Cell \u001b[0;32mIn[45], line 1\u001b[0m\n\u001b[0;32m----> 1\u001b[0m \u001b[43mn\u001b[49m\u001b[43m[\u001b[49m\u001b[38;5;241;43m0\u001b[39;49m\u001b[43m]\u001b[49m\u001b[38;5;241m=\u001b[39m\u001b[38;5;241m9\u001b[39m\n",
      "\u001b[0;31mTypeError\u001b[0m: 'int' object does not support item assignment"
     ]
    }
   ],
   "source": [
    "n[0]=9"
   ]
  },
  {
   "cell_type": "code",
   "execution_count": 46,
   "id": "81b8e17e-d567-4d8f-be62-912a7c6a0c21",
   "metadata": {},
   "outputs": [
    {
     "ename": "TypeError",
     "evalue": "'int' object does not support item assignment",
     "output_type": "error",
     "traceback": [
      "\u001b[0;31m---------------------------------------------------------------------------\u001b[0m",
      "\u001b[0;31mTypeError\u001b[0m                                 Traceback (most recent call last)",
      "Cell \u001b[0;32mIn[46], line 1\u001b[0m\n\u001b[0;32m----> 1\u001b[0m \u001b[43mn\u001b[49m\u001b[43m[\u001b[49m\u001b[38;5;241;43m0\u001b[39;49m\u001b[43m]\u001b[49m\u001b[38;5;241m=\u001b[39m\u001b[38;5;124m'\u001b[39m\u001b[38;5;124m8\u001b[39m\u001b[38;5;124m'\u001b[39m\n",
      "\u001b[0;31mTypeError\u001b[0m: 'int' object does not support item assignment"
     ]
    }
   ],
   "source": [
    "n[0]='8'"
   ]
  },
  {
   "cell_type": "code",
   "execution_count": null,
   "id": "feb7d807-2a4a-422b-a5e6-00cfe226ef32",
   "metadata": {},
   "outputs": [],
   "source": []
  }
 ],
 "metadata": {
  "kernelspec": {
   "display_name": "Python 3 (ipykernel)",
   "language": "python",
   "name": "python3"
  },
  "language_info": {
   "codemirror_mode": {
    "name": "ipython",
    "version": 3
   },
   "file_extension": ".py",
   "mimetype": "text/x-python",
   "name": "python",
   "nbconvert_exporter": "python",
   "pygments_lexer": "ipython3",
   "version": "3.10.8"
  }
 },
 "nbformat": 4,
 "nbformat_minor": 5
}
